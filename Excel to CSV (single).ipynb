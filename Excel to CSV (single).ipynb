{
 "cells": [
  {
   "cell_type": "code",
   "execution_count": 1,
   "metadata": {},
   "outputs": [
    {
     "name": "stdout",
     "output_type": "stream",
     "text": [
      "\"D:\\Favorites\\1. Programming\\Projects\\LYS_database\\DATA TO INPUT\\INSERT DATA.xlsx\"\n"
     ]
    }
   ],
   "source": [
    "import pandas as pd\n",
    "from datetime import date\n",
    "import os\n",
    "\n",
    "excel_home = input()"
   ]
  },
  {
   "cell_type": "code",
   "execution_count": 2,
   "metadata": {},
   "outputs": [],
   "source": [
    "# 1: establish names\n",
    "# 2: make new directory \n",
    "# 3: put csv into new directory \n",
    "\n",
    "def excel2csv (excel_home):\n",
    "\n",
    "# 1: establish names \n",
    "    try: \n",
    "        i = len(excel_home)\n",
    "        name = \" \"\n",
    "        while (name[0] != \"\\\\\"):\n",
    "            name = excel_home[i-1] + name\n",
    "            i -=1\n",
    "        name = name[:-2]\n",
    "        # ^ 2 accounts for the space and \" at the end of \"name\"\n",
    "        root_dir = excel_home[1:-(len(name))] \n",
    "        \n",
    "        today = date.today()\n",
    "        today_formatted = today.strftime(\"%d%b%Y\")\n",
    "        csv_folder_name=\"{}_{}_{}\".format(today_formatted.upper(), \"tabs2csv\",\n",
    "                            name[1:-(len(name) - name.find(\".\"))])\n",
    "    except:\n",
    "        print (\"Something went wrong on step 1\")\n",
    "\n",
    "# 2: make new directory \n",
    "\n",
    "    try:\n",
    "        new_csv_folder_path = \"{}{}\".format(root_dir, csv_folder_name)\n",
    "        if not os.path.exists(new_csv_folder_path):\n",
    "            os.mkdir(new_csv_folder_path)\n",
    "    except OSError:\n",
    "        print (\"Creation of the directory %s failed\" % new_csv_folder_path)\n",
    "    else:\n",
    "        print (\"The directory you want exists! %s \" % new_csv_folder_path)\n",
    "    \n",
    "\n",
    "# 3: put csv into new directory\n",
    "\n",
    "    # 3.1: get a list of tab names\n",
    "    xl = pd.read_excel ('{}\\{}'.format(root_dir, name), sheet_name = None) \n",
    "    # omitting \"sheet_name = None\" makes xl a dataframe rather than dict\n",
    "    sheets = list(xl.keys())\n",
    "    \n",
    "    # 3.2: save using tab names as file names \n",
    "    list_of_df = list(xl.values()) # this is a list of data frames \n",
    "    \n",
    "    x=0\n",
    "    while x < len(sheets):\n",
    "        sheet = sheets[x]\n",
    "        list_of_df[x].to_csv('{}\\{}.csv'.format(new_csv_folder_path, sheet), index = False)\n",
    "        x+=1\n",
    "        \n",
    "    print(\"{} new CSV created\".format(len(sheets)))\n",
    "    print(\"They are here: \", new_csv_folder_path)"
   ]
  },
  {
   "cell_type": "code",
   "execution_count": 4,
   "metadata": {},
   "outputs": [
    {
     "name": "stdout",
     "output_type": "stream",
     "text": [
      "The directory you want exists! D:\\Favorites\\1. Programming\\Projects\\LYS_database\\DATA TO INPUT\\22AUG2020_tabs2csv_INSERT DATA \n",
      "14 new CSV created\n",
      "They are here:  D:\\Favorites\\1. Programming\\Projects\\LYS_database\\DATA TO INPUT\\22AUG2020_tabs2csv_INSERT DATA\n"
     ]
    }
   ],
   "source": [
    "excel2csv (excel_home)"
   ]
  },
  {
   "cell_type": "code",
   "execution_count": null,
   "metadata": {},
   "outputs": [],
   "source": []
  }
 ],
 "metadata": {
  "kernelspec": {
   "display_name": "Python 3",
   "language": "python",
   "name": "python3"
  },
  "language_info": {
   "codemirror_mode": {
    "name": "ipython",
    "version": 3
   },
   "file_extension": ".py",
   "mimetype": "text/x-python",
   "name": "python",
   "nbconvert_exporter": "python",
   "pygments_lexer": "ipython3",
   "version": "3.7.6"
  }
 },
 "nbformat": 4,
 "nbformat_minor": 4
}
