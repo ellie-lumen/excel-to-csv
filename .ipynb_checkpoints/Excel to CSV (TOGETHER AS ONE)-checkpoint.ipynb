{
 "cells": [
  {
   "cell_type": "markdown",
   "metadata": {},
   "source": [
    "## Notes before running this script\n",
    "- Close all the Excel files you want to convert to CSV before running this code.\n",
    "- This script will convert all of your files with .xlsx or .xls located in the path you provide.\n",
    "\n",
    "## To run this script \n",
    " - Execute every cell containing code by clicking the cell and pressing Shift + Enter."
   ]
  },
  {
   "cell_type": "markdown",
   "metadata": {},
   "source": [
    "## Enter directory with all the excel files you want to convert."
   ]
  },
  {
   "cell_type": "code",
   "execution_count": null,
   "metadata": {},
   "outputs": [],
   "source": [
    "import pandas as pd\n",
    "from datetime import date\n",
    "import os\n",
    "\n",
    "root_dir = input()"
   ]
  },
  {
   "cell_type": "code",
   "execution_count": null,
   "metadata": {},
   "outputs": [],
   "source": [
    "def many_as_one (root_dir):\n",
    "\n",
    "    # 1: List all excel files in directory. \n",
    "\n",
    "    excel_file_list = []\n",
    "    try:\n",
    "        for file in os.listdir(root_dir):\n",
    "            if file.endswith(\".xlsx\") or file.endswith(\".xls\") :\n",
    "                excel_file_list.append(file)\n",
    "        print(\"Number of excel files to be processed:\", len(excel_file_list))\n",
    "\n",
    "    except FileNotFoundError:\n",
    "        print(\"Incorrect file path\")\n",
    "    \n",
    "    \n",
    "    # 2: Make new directory for csv files that will be loaded into the database.\n",
    "\n",
    "    today = date.today().strftime(\"%d%b%Y\")\n",
    "    csv_folder_name= \"{}{}\".format(today.upper(), \"_CSV\")\n",
    "\n",
    "    try:\n",
    "        new_csv_folder_path = \"{}\\{}\".format(root_dir, csv_folder_name)\n",
    "        if not os.path.exists(new_csv_folder_path):\n",
    "            os.mkdir(new_csv_folder_path)\n",
    "    except OSError:\n",
    "        print (\"Creation of the directory %s failed\" % new_csv_folder_path)\n",
    "    else:\n",
    "        print (\"Directory for CSV files created: %s \" % new_csv_folder_path)\n",
    "\n",
    "\n",
    "    # 3. Get a list of dictionaries {K:V = tab name : df of tab contents}\n",
    "    list_of_dict = []\n",
    "    l = 0\n",
    "    for file in excel_file_list:\n",
    "        dict_of_df = pd.read_excel ('{}\\{}'.format(root_dir, excel_file_list[l]), sheet_name = None)  \n",
    "        l+=1\n",
    "        list_of_dict.append(dict_of_df)\n",
    "\n",
    "    \n",
    "    if len(list_of_dict) == 0:\n",
    "        print(\"\\nThere are no Excel files in the directory you provided.\" + \"\\n\"\n",
    "             + \"(Hint: you may be mistaking CSV files for Excel files. It happens to the best of us :)\")\n",
    "    else:\n",
    "        # 4. Generate a list of tab names \n",
    "        list_of_tabs = list(dict_of_df.keys())\n",
    "        print(\"List of tabs:\", list_of_tabs)\n",
    "\n",
    "        try:\n",
    "            t = 0\n",
    "            while t < len(list_of_tabs):\n",
    "                tab_iterator = list_of_tabs[t]\n",
    "                t+=1\n",
    "                x = 0\n",
    "\n",
    "                #define a combined_df outside the inner loop so that it doesn't get redefined at every iteration\n",
    "                dict_boy = list_of_dict[x]\n",
    "                temp_df = dict_boy.get(tab_iterator) \n",
    "                combined_df = pd.DataFrame(columns=(temp_df.columns))\n",
    "\n",
    "                while x < len(list_of_dict):\n",
    "                    dict_boy = list_of_dict[x]\n",
    "                    temp_df = dict_boy.get(tab_iterator) \n",
    "                    combined_df = combined_df.append(temp_df, ignore_index=True)\n",
    "                    x+=1\n",
    "                combined_df.to_csv('{}\\{}.csv'.format(new_csv_folder_path, tab_iterator), index = False)\n",
    "                print(\"Job # {}: CSV created for {}\".format(t, tab_iterator))\n",
    "\n",
    "        except AttributeError:\n",
    "            print(\"Check that the tabs you want to join are named the same thing.\")\n",
    "\n",
    "        else:\n",
    "            print(\"done :)\")"
   ]
  },
  {
   "cell_type": "code",
   "execution_count": null,
   "metadata": {},
   "outputs": [],
   "source": [
    "many_as_one(root_dir)"
   ]
  }
 ],
 "metadata": {
  "kernelspec": {
   "display_name": "Python 3",
   "language": "python",
   "name": "python3"
  },
  "language_info": {
   "codemirror_mode": {
    "name": "ipython",
    "version": 3
   },
   "file_extension": ".py",
   "mimetype": "text/x-python",
   "name": "python",
   "nbconvert_exporter": "python",
   "pygments_lexer": "ipython3",
   "version": "3.7.6"
  }
 },
 "nbformat": 4,
 "nbformat_minor": 4
}
