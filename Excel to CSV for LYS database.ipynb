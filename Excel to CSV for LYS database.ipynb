{
 "cells": [
  {
   "cell_type": "code",
   "execution_count": 1,
   "metadata": {},
   "outputs": [
    {
     "name": "stdout",
     "output_type": "stream",
     "text": [
      "\"C:\\LYS Database\\1. Raw data for input\\1. CSV ready to import\\06AUG2020 construct table.xlsx\"\n"
     ]
    }
   ],
   "source": [
    "import pandas as pd\n",
    "from datetime import date\n",
    "import os\n",
    "\n",
    "\n",
    "csv_home = r'C:\\LYS Database\\1. Raw data for input\\1. CSV ready to import'\n",
    "excel_home = input()"
   ]
  },
  {
   "cell_type": "code",
   "execution_count": 2,
   "metadata": {},
   "outputs": [],
   "source": [
    "# 1: establish names\n",
    "# 2: put csv into new directory \n",
    "\n",
    "def excel2csv (excel_home):\n",
    "\n",
    "# 1: establish names \n",
    "    try: \n",
    "        i = len(excel_home)\n",
    "        name = \" \"\n",
    "        while (name[0] != \"\\\\\"):\n",
    "            name = excel_home[i-1] + name\n",
    "            i -=1\n",
    "        name = name[:-2]\n",
    "        # ^ 2 accounts for the space and \" at the end of \"name\"\n",
    "        root_dir = excel_home[1:-(len(name))] \n",
    "    except:\n",
    "        print (\"Something went wrong on step 1\")\n",
    "    \n",
    "\n",
    "# 2: save CSV files\n",
    "\n",
    "    # get a list of tab names\n",
    "    xl = pd.read_excel ('{}\\{}'.format(root_dir, name), sheet_name = None) \n",
    "    # omitting \"sheet_name = None\" makes xl a dataframe rather than dict\n",
    "    sheets = list(xl.keys())\n",
    "    \n",
    "    # save using tab names as file names \n",
    "    list_of_df = list(xl.values()) # this is a list of data frames \n",
    "    \n",
    "    x=0\n",
    "    while x < len(sheets):\n",
    "        sheet = sheets[x]\n",
    "        list_of_df[x].to_csv('{}\\{}.csv'.format(csv_home, sheet), index = False)\n",
    "        x+=1\n",
    "        \n",
    "    print(\"{} new CSV created\".format(len(sheets)))\n",
    "    print(\"They are here: \", csv_home)"
   ]
  },
  {
   "cell_type": "code",
   "execution_count": 3,
   "metadata": {},
   "outputs": [
    {
     "name": "stdout",
     "output_type": "stream",
     "text": [
      "4 new CSV created\n",
      "They are here:  C:\\LYS Database\\1. Raw data for input\\1. CSV ready to import\n"
     ]
    }
   ],
   "source": [
    "excel2csv (excel_home)"
   ]
  },
  {
   "cell_type": "code",
   "execution_count": null,
   "metadata": {},
   "outputs": [],
   "source": []
  }
 ],
 "metadata": {
  "kernelspec": {
   "display_name": "Python 3",
   "language": "python",
   "name": "python3"
  },
  "language_info": {
   "codemirror_mode": {
    "name": "ipython",
    "version": 3
   },
   "file_extension": ".py",
   "mimetype": "text/x-python",
   "name": "python",
   "nbconvert_exporter": "python",
   "pygments_lexer": "ipython3",
   "version": "3.7.7"
  }
 },
 "nbformat": 4,
 "nbformat_minor": 4
}
